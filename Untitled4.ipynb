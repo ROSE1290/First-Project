{
  "nbformat": 4,
  "nbformat_minor": 0,
  "metadata": {
    "colab": {
      "provenance": [],
      "authorship_tag": "ABX9TyMfgjvsq2iJ+t7EmSsTgJ3W",
      "include_colab_link": true
    },
    "kernelspec": {
      "name": "python3",
      "display_name": "Python 3"
    },
    "language_info": {
      "name": "python"
    }
  },
  "cells": [
    {
      "cell_type": "markdown",
      "metadata": {
        "id": "view-in-github",
        "colab_type": "text"
      },
      "source": [
        "<a href=\"https://colab.research.google.com/github/ROSE1290/First-Project/blob/main/Untitled4.ipynb\" target=\"_parent\"><img src=\"https://colab.research.google.com/assets/colab-badge.svg\" alt=\"Open In Colab\"/></a>"
      ]
    },
    {
      "cell_type": "code",
      "source": [
        "my_message = \"\"\" HHellow owrld is a good way to start\n",
        "or maybe not\"\"\""
      ],
      "metadata": {
        "id": "ja3GveAv-94I"
      },
      "execution_count": 21,
      "outputs": []
    },
    {
      "cell_type": "code",
      "execution_count": 8,
      "metadata": {
        "colab": {
          "base_uri": "https://localhost:8080/"
        },
        "id": "RZVmL1ow9a06",
        "outputId": "aef9f2b4-9e25-44c5-82e9-d6de388153b4"
      },
      "outputs": [
        {
          "output_type": "stream",
          "name": "stdout",
          "text": [
            " hellow owrld is a good way to start\n",
            "or maybe not\n"
          ]
        }
      ],
      "source": [
        "print(my_message)"
      ]
    },
    {
      "cell_type": "code",
      "source": [
        "print(\"bobby's world\")"
      ],
      "metadata": {
        "colab": {
          "base_uri": "https://localhost:8080/"
        },
        "id": "sk1dmUvdATpg",
        "outputId": "f2e346d4-c151-4a1b-d081-83e1899c2c31"
      },
      "execution_count": 6,
      "outputs": [
        {
          "output_type": "stream",
          "name": "stdout",
          "text": [
            "bobby's world\n"
          ]
        }
      ]
    },
    {
      "cell_type": "code",
      "source": [
        "print(len(my_message))"
      ],
      "metadata": {
        "colab": {
          "base_uri": "https://localhost:8080/"
        },
        "id": "CBGMi2c7A6t7",
        "outputId": "f1232572-c33e-4b0b-932f-e14b4b6b8129"
      },
      "execution_count": 9,
      "outputs": [
        {
          "output_type": "stream",
          "name": "stdout",
          "text": [
            "49\n"
          ]
        }
      ]
    },
    {
      "cell_type": "code",
      "source": [
        "print(my_message[1])"
      ],
      "metadata": {
        "colab": {
          "base_uri": "https://localhost:8080/"
        },
        "id": "hus1p170BVti",
        "outputId": "8bdd4e93-e665-4801-c2d7-2c1537375500"
      },
      "execution_count": 11,
      "outputs": [
        {
          "output_type": "stream",
          "name": "stdout",
          "text": [
            "h\n"
          ]
        }
      ]
    },
    {
      "cell_type": "code",
      "source": [
        "print(my_message[:5])"
      ],
      "metadata": {
        "colab": {
          "base_uri": "https://localhost:8080/"
        },
        "id": "XAz2OAXHBv-w",
        "outputId": "8660dd49-2a9b-4ac7-8fc7-c31e82e59a50"
      },
      "execution_count": 15,
      "outputs": [
        {
          "output_type": "stream",
          "name": "stdout",
          "text": [
            " hell\n"
          ]
        }
      ]
    },
    {
      "cell_type": "code",
      "source": [
        "print(my_message[:5])"
      ],
      "metadata": {
        "colab": {
          "base_uri": "https://localhost:8080/"
        },
        "id": "YI32H313CRz8",
        "outputId": "2aad1ee5-5e76-426f-a6aa-9882ee0c58b9"
      },
      "execution_count": 17,
      "outputs": [
        {
          "output_type": "stream",
          "name": "stdout",
          "text": [
            " hell\n"
          ]
        }
      ]
    },
    {
      "cell_type": "code",
      "source": [
        "print(my_message[6:])"
      ],
      "metadata": {
        "colab": {
          "base_uri": "https://localhost:8080/"
        },
        "id": "J0MigbmUCq46",
        "outputId": "4cadf5db-50b5-4687-cf50-a51ec961b5d9"
      },
      "execution_count": 18,
      "outputs": [
        {
          "output_type": "stream",
          "name": "stdout",
          "text": [
            "w owrld is a good way to start\n",
            "or maybe not\n"
          ]
        }
      ]
    },
    {
      "cell_type": "code",
      "source": [
        " print(my_message.lower())"
      ],
      "metadata": {
        "colab": {
          "base_uri": "https://localhost:8080/"
        },
        "id": "t1mD9gdHEMMa",
        "outputId": "87608741-856c-472b-fd1b-a206e49c3ef0"
      },
      "execution_count": 22,
      "outputs": [
        {
          "output_type": "stream",
          "name": "stdout",
          "text": [
            " hhellow owrld is a good way to start\n",
            "or maybe not\n"
          ]
        }
      ]
    },
    {
      "cell_type": "code",
      "source": [
        " print(my_message.count('e'))"
      ],
      "metadata": {
        "colab": {
          "base_uri": "https://localhost:8080/"
        },
        "id": "DnQ35kZtEq1m",
        "outputId": "bde88e2e-a194-47a0-adda-b39dfff544e0"
      },
      "execution_count": 26,
      "outputs": [
        {
          "output_type": "stream",
          "name": "stdout",
          "text": [
            "2\n"
          ]
        }
      ]
    },
    {
      "cell_type": "code",
      "source": [
        "print(my_message.upper())"
      ],
      "metadata": {
        "colab": {
          "base_uri": "https://localhost:8080/"
        },
        "id": "HG-2YLL3ErSS",
        "outputId": "907dce44-3bf7-4b5f-bf1b-c8bdb27246d8"
      },
      "execution_count": 23,
      "outputs": [
        {
          "output_type": "stream",
          "name": "stdout",
          "text": [
            " HHELLOW OWRLD IS A GOOD WAY TO START\n",
            "OR MAYBE NOT\n"
          ]
        }
      ]
    },
    {
      "cell_type": "code",
      "source": [
        "new_message = my_message.replace('good','bad')"
      ],
      "metadata": {
        "id": "k8TpzAFsGP-6"
      },
      "execution_count": 27,
      "outputs": []
    },
    {
      "cell_type": "code",
      "source": [
        "print(new_message)"
      ],
      "metadata": {
        "colab": {
          "base_uri": "https://localhost:8080/"
        },
        "id": "56iX0euqGjE9",
        "outputId": "996bfc0d-61d0-4999-ee30-858f8b919563"
      },
      "execution_count": 28,
      "outputs": [
        {
          "output_type": "stream",
          "name": "stdout",
          "text": [
            " HHellow owrld is a bad way to start\n",
            "or maybe not\n"
          ]
        }
      ]
    },
    {
      "cell_type": "code",
      "source": [
        "n_1 = 'Roji'"
      ],
      "metadata": {
        "id": "0IDF1FZyHOMf"
      },
      "execution_count": 55,
      "outputs": []
    },
    {
      "cell_type": "code",
      "source": [
        "n_2 = 'Ravina'"
      ],
      "metadata": {
        "id": "tObRZNRaHgSQ"
      },
      "execution_count": 58,
      "outputs": []
    },
    {
      "cell_type": "code",
      "source": [
        "n_3 = n_1 +'   ,   ' + n_2 + '. welcome'"
      ],
      "metadata": {
        "id": "COyTG2eNHm5n"
      },
      "execution_count": 38,
      "outputs": []
    },
    {
      "cell_type": "code",
      "source": [
        "print(n_3)"
      ],
      "metadata": {
        "colab": {
          "base_uri": "https://localhost:8080/"
        },
        "id": "gNwIlUo_HvHF",
        "outputId": "77d2ab5a-b3b6-4c21-a020-8ebdc1c72974"
      },
      "execution_count": 39,
      "outputs": [
        {
          "output_type": "stream",
          "name": "stdout",
          "text": [
            "Roji   ,   Ravina. welcome\n"
          ]
        }
      ]
    },
    {
      "cell_type": "code",
      "source": [
        "n_4 = '{} , {} . welcome sis'.format(n_1,n_2)"
      ],
      "metadata": {
        "id": "VrtRTMtkJ9r3"
      },
      "execution_count": 46,
      "outputs": []
    },
    {
      "cell_type": "code",
      "source": [
        "print(n_4)"
      ],
      "metadata": {
        "colab": {
          "base_uri": "https://localhost:8080/"
        },
        "id": "CqwY97gyKV3T",
        "outputId": "2338c329-6c9b-4ba1-8e19-1f008edd90aa"
      },
      "execution_count": 47,
      "outputs": [
        {
          "output_type": "stream",
          "name": "stdout",
          "text": [
            "Roji , Ravina . welcome sis\n"
          ]
        }
      ]
    },
    {
      "cell_type": "code",
      "source": [
        "n_5 = f'{n_1} , {n_2} .welcome'"
      ],
      "metadata": {
        "id": "zDy2U7UKLDvJ"
      },
      "execution_count": 61,
      "outputs": []
    },
    {
      "cell_type": "code",
      "source": [
        "print(n_5)"
      ],
      "metadata": {
        "colab": {
          "base_uri": "https://localhost:8080/"
        },
        "id": "LtMs-4mEMW1g",
        "outputId": "6ab98674-ce92-496d-a433-84f3af30af7d"
      },
      "execution_count": 62,
      "outputs": [
        {
          "output_type": "stream",
          "name": "stdout",
          "text": [
            "Roji , Ravina .welcome\n"
          ]
        }
      ]
    },
    {
      "cell_type": "code",
      "source": [
        "print(dir(n_5))"
      ],
      "metadata": {
        "colab": {
          "base_uri": "https://localhost:8080/"
        },
        "id": "K4_DRiPJMt1g",
        "outputId": "8a9c0661-d1c1-4b1a-e930-b170adc08b38"
      },
      "execution_count": 64,
      "outputs": [
        {
          "output_type": "stream",
          "name": "stdout",
          "text": [
            "['__add__', '__class__', '__contains__', '__delattr__', '__dir__', '__doc__', '__eq__', '__format__', '__ge__', '__getattribute__', '__getitem__', '__getnewargs__', '__gt__', '__hash__', '__init__', '__init_subclass__', '__iter__', '__le__', '__len__', '__lt__', '__mod__', '__mul__', '__ne__', '__new__', '__reduce__', '__reduce_ex__', '__repr__', '__rmod__', '__rmul__', '__setattr__', '__sizeof__', '__str__', '__subclasshook__', 'capitalize', 'casefold', 'center', 'count', 'encode', 'endswith', 'expandtabs', 'find', 'format', 'format_map', 'index', 'isalnum', 'isalpha', 'isascii', 'isdecimal', 'isdigit', 'isidentifier', 'islower', 'isnumeric', 'isprintable', 'isspace', 'istitle', 'isupper', 'join', 'ljust', 'lower', 'lstrip', 'maketrans', 'partition', 'removeprefix', 'removesuffix', 'replace', 'rfind', 'rindex', 'rjust', 'rpartition', 'rsplit', 'rstrip', 'split', 'splitlines', 'startswith', 'strip', 'swapcase', 'title', 'translate', 'upper', 'zfill']\n"
          ]
        }
      ]
    },
    {
      "cell_type": "code",
      "source": [],
      "metadata": {
        "id": "hhpkBtSUMwjb"
      },
      "execution_count": null,
      "outputs": []
    }
  ]
}